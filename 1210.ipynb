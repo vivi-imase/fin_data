{
  "nbformat": 4,
  "nbformat_minor": 0,
  "metadata": {
    "colab": {
      "provenance": [],
      "authorship_tag": "ABX9TyNKKrvezHs8Je731q5sLhnn",
      "include_colab_link": true
    },
    "kernelspec": {
      "name": "python3",
      "display_name": "Python 3"
    },
    "language_info": {
      "name": "python"
    }
  },
  "cells": [
    {
      "cell_type": "markdown",
      "metadata": {
        "id": "view-in-github",
        "colab_type": "text"
      },
      "source": [
        "<a href=\"https://colab.research.google.com/github/vivi-imase/fin_data/blob/main/1210.ipynb\" target=\"_parent\"><img src=\"https://colab.research.google.com/assets/colab-badge.svg\" alt=\"Open In Colab\"/></a>"
      ]
    },
    {
      "cell_type": "code",
      "execution_count": 8,
      "metadata": {
        "colab": {
          "base_uri": "https://localhost:8080/"
        },
        "id": "uUiFrm29zGPs",
        "outputId": "63d1a3c3-c3b9-4c26-d713-e27f7127c8b8"
      },
      "outputs": [
        {
          "output_type": "stream",
          "name": "stdout",
          "text": [
            "           value forecast\n",
            "time                     \n",
            "24-Dec  24556033        F\n",
            "23-Dec  23355819        F\n",
            "22-Dec  22666522        P\n",
            "21-Dec  21738982        P\n",
            "20-Dec  19914806        R\n"
          ]
        }
      ],
      "source": [
        "import pandas as pd\n",
        "\n",
        "url = \"https://raw.githubusercontent.com/fju155447/fin_data/main/NominalGDP_new.csv\"\n",
        "df = pd.read_csv(url, index_col=0) #df 儲存資料的空間的代號名稱 pd 處理資料套件的縮寫(pandas)\n",
        "print(df.head(5))"
      ]
    },
    {
      "cell_type": "code",
      "source": [
        "import pandas as pd\n",
        "\n",
        "url = \"https://raw.githubusercontent.com/fju155447/fin_data/main/2330.TW.csv\"\n",
        "df = pd.read_csv(url, index_col=0) #df 儲存資料的空間的代號名稱 pd 處理資料套件的縮寫(pandas)\n",
        "print(df.head(5))"
      ],
      "metadata": {
        "colab": {
          "base_uri": "https://localhost:8080/"
        },
        "id": "H-rd5TRA3WPm",
        "outputId": "9746f337-bd07-4931-e775-72290f44c3a8"
      },
      "execution_count": 7,
      "outputs": [
        {
          "output_type": "stream",
          "name": "stdout",
          "text": [
            "             Open   High    Low  Close   Adj Close    Volume\n",
            "Date                                                        \n",
            "2020-01-02  332.5  339.0  332.5  339.0  308.986359  31754120\n",
            "2020-01-03  344.0  345.0  335.5  339.5  309.442047  41811268\n",
            "2020-01-06  333.0  334.5  332.0  332.0  302.606049  45343057\n",
            "2020-01-07  332.5  333.0  326.5  329.5  300.327393  50879181\n",
            "2020-01-08  325.0  333.0  325.0  329.5  300.327393  37567748\n"
          ]
        }
      ]
    }
  ]
}